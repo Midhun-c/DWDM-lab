{
  "nbformat": 4,
  "nbformat_minor": 0,
  "metadata": {
    "colab": {
      "provenance": [],
      "authorship_tag": "ABX9TyOC5qPHP0cf2EG7iEJN+FXu",
      "include_colab_link": true
    },
    "kernelspec": {
      "name": "ir",
      "display_name": "R"
    },
    "language_info": {
      "name": "R"
    }
  },
  "cells": [
    {
      "cell_type": "markdown",
      "metadata": {
        "id": "view-in-github",
        "colab_type": "text"
      },
      "source": [
        "<a href=\"https://colab.research.google.com/github/Midhun-c/login-page/blob/main/ex_1_.ipynb\" target=\"_parent\"><img src=\"https://colab.research.google.com/assets/colab-badge.svg\" alt=\"Open In Colab\"/></a>"
      ]
    },
    {
      "cell_type": "code",
      "execution_count": 1,
      "metadata": {
        "colab": {
          "base_uri": "https://localhost:8080/"
        },
        "id": "IhiR3K0Bh36O",
        "outputId": "8b59b241-c570-4a81-d2e6-179a71a292ba"
      },
      "outputs": [
        {
          "output_type": "stream",
          "name": "stdout",
          "text": [
            "Hello World!\n"
          ]
        }
      ],
      "source": [
        "\"Hello World!\"\n",
        "5 + 5\n",
        "\n",
        "print(\"Hello World!\")\n",
        "\n",
        "# This is a comment by midhun"
      ]
    },
    {
      "cell_type": "code",
      "source": [
        "plot(1:10)\n"
      ],
      "metadata": {
        "colab": {
          "base_uri": "https://localhost:8080/",
          "height": 437
        },
        "id": "SETKoUuEiBzH",
        "outputId": "4b1faa45-9a1f-4749-f579-eb591c6e6ce7"
      },
      "execution_count": 1,
      "outputs": [
        {
          "output_type": "display_data",
          "data": {
            "text/plain": [
              "plot without title"
            ],
            "image/png": "[encoded data removed]"
          },
          "metadata": {
            "image/png": {
              "width": 420,
              "height": 420
            }
          }
        }
      ]
    },
    {
      "cell_type": "code",
      "source": [
        "for (x in 1:10)\n",
        "{\n",
        "  print(x)\n",
        "}"
      ],
      "metadata": {
        "colab": {
          "base_uri": "https://localhost:8080/"
        },
        "id": "fceowTUCiUHX",
        "outputId": "ec378c61-6a97-41ea-831b-f9f3a6072a75"
      },
      "execution_count": 2,
      "outputs": [
        {
          "output_type": "stream",
          "name": "stdout",
          "text": [
            "[1] 1\n",
            "[1] 2\n",
            "[1] 3\n",
            "[1] 4\n",
            "[1] 5\n",
            "[1] 6\n",
            "[1] 7\n",
            "[1] 8\n",
            "[1] 9\n",
            "[1] 10\n"
          ]
        }
      ]
    },
    {
      "cell_type": "code",
      "source": [
        "name <- \"John\"\n",
        "age <- 40\n",
        "name\n",
        "age\n",
        "name=\"jhon\"\n",
        "name"
      ],
      "metadata": {
        "colab": {
          "base_uri": "https://localhost:8080/",
          "height": 69
        },
        "id": "QI5ovnQXi-nP",
        "outputId": "343125d2-7643-408f-9b53-23a8c909d3c7"
      },
      "execution_count": 4,
      "outputs": [
        {
          "output_type": "display_data",
          "data": {
            "text/html": [
              "'John'"
            ],
            "text/markdown": "'John'",
            "text/latex": "'John'",
            "text/plain": [
              "[1] \"John\""
            ]
          },
          "metadata": {}
        },
        {
          "output_type": "display_data",
          "data": {
            "text/html": [
              "40"
            ],
            "text/markdown": "40",
            "text/latex": "40",
            "text/plain": [
              "[1] 40"
            ]
          },
          "metadata": {}
        },
        {
          "output_type": "display_data",
          "data": {
            "text/html": [
              "'jhon'"
            ],
            "text/markdown": "'jhon'",
            "text/latex": "'jhon'",
            "text/plain": [
              "[1] \"jhon\""
            ]
          },
          "metadata": {}
        }
      ]
    },
    {
      "cell_type": "code",
      "source": [
        "text <- \"KRCE\"\n",
        "\n",
        "paste(\"R is\", text) # Concatenate Elements"
      ],
      "metadata": {
        "colab": {
          "base_uri": "https://localhost:8080/",
          "height": 34
        },
        "id": "H4Q9yNOYjRMP",
        "outputId": "7205ccb3-a367-4ff2-9756-79d44b748cb9"
      },
      "execution_count": 6,
      "outputs": [
        {
          "output_type": "display_data",
          "data": {
            "text/html": [
              "'R is KRCE'"
            ],
            "text/markdown": "'R is KRCE'",
            "text/latex": "'R is KRCE'",
            "text/plain": [
              "[1] \"R is KRCE\""
            ]
          },
          "metadata": {}
        }
      ]
    },
    {
      "cell_type": "code",
      "source": [
        "var1 <- var2 <- var3 <- \"KRGi\"\n",
        "\n",
        "# Print variable values\n",
        "var1\n",
        "var2\n",
        "var3"
      ],
      "metadata": {
        "colab": {
          "base_uri": "https://localhost:8080/",
          "height": 69
        },
        "id": "7tzyxjlQjeU3",
        "outputId": "8ebf31a0-4a74-44c8-b7c7-6540bee5a203"
      },
      "execution_count": 8,
      "outputs": [
        {
          "output_type": "display_data",
          "data": {
            "text/html": [
              "'KRGi'"
            ],
            "text/markdown": "'KRGi'",
            "text/latex": "'KRGi'",
            "text/plain": [
              "[1] \"KRGi\""
            ]
          },
          "metadata": {}
        },
        {
          "output_type": "display_data",
          "data": {
            "text/html": [
              "'KRGi'"
            ],
            "text/markdown": "'KRGi'",
            "text/latex": "'KRGi'",
            "text/plain": [
              "[1] \"KRGi\""
            ]
          },
          "metadata": {}
        },
        {
          "output_type": "display_data",
          "data": {
            "text/html": [
              "'KRGi'"
            ],
            "text/markdown": "'KRGi'",
            "text/latex": "'KRGi'",
            "text/plain": [
              "[1] \"KRGi\""
            ]
          },
          "metadata": {}
        }
      ]
    },
    {
      "cell_type": "code",
      "source": [
        "# Variable Names\n",
        "# A variable can have a short name (like x and y) or a more descriptive name (age, carname, total_volume). Rules for R variables are:\n",
        "# A variable name must start with a letter and can be a combination of letters, digits, period(.)\n",
        "#  and underscore(_). If it starts with period(.), it cannot be followed by a digit.\n",
        "#  A variable name cannot start with a number or underscore (_)\n",
        "#   Variable names are case-sensitive (age, Age and AGE are three different variables)\n",
        "#   Reserved words cannot be used as variables (TRUE, FALSE, NULL, if...)*/"
      ],
      "metadata": {
        "id": "t9zmtwtJjs-f"
      },
      "execution_count": 11,
      "outputs": []
    },
    {
      "cell_type": "code",
      "source": [
        "# numeric\n",
        "x <- 10.5\n",
        "class(x)\n",
        "\n",
        "# integer\n",
        "x <- 1000L\n",
        "class(x)\n",
        "\n",
        "# complex\n",
        "x <- 9i + 3\n",
        "class(x)\n",
        "\n",
        "# character/string\n",
        "x <- \"R is exciting\"\n",
        "class(x)\n",
        "\n",
        "# logical/boolean\n",
        "x <- TRUE\n",
        "class(x)"
      ],
      "metadata": {
        "colab": {
          "base_uri": "https://localhost:8080/",
          "height": 104
        },
        "id": "5hgV4jxwkugo",
        "outputId": "fa64fe42-a018-4050-db7f-7531c39dc549"
      },
      "execution_count": 12,
      "outputs": [
        {
          "output_type": "display_data",
          "data": {
            "text/html": [
              "'numeric'"
            ],
            "text/markdown": "'numeric'",
            "text/latex": "'numeric'",
            "text/plain": [
              "[1] \"numeric\""
            ]
          },
          "metadata": {}
        },
        {
          "output_type": "display_data",
          "data": {
            "text/html": [
              "'integer'"
            ],
            "text/markdown": "'integer'",
            "text/latex": "'integer'",
            "text/plain": [
              "[1] \"integer\""
            ]
          },
          "metadata": {}
        },
        {
          "output_type": "display_data",
          "data": {
            "text/html": [
              "'complex'"
            ],
            "text/markdown": "'complex'",
            "text/latex": "'complex'",
            "text/plain": [
              "[1] \"complex\""
            ]
          },
          "metadata": {}
        },
        {
          "output_type": "display_data",
          "data": {
            "text/html": [
              "'character'"
            ],
            "text/markdown": "'character'",
            "text/latex": "'character'",
            "text/plain": [
              "[1] \"character\""
            ]
          },
          "metadata": {}
        },
        {
          "output_type": "display_data",
          "data": {
            "text/html": [
              "'logical'"
            ],
            "text/markdown": "'logical'",
            "text/latex": "'logical'",
            "text/plain": [
              "[1] \"logical\""
            ]
          },
          "metadata": {}
        }
      ]
    },
    {
      "cell_type": "code",
      "source": [
        "# math\n",
        "\n",
        "\n",
        "max(5, 10, 15)\n",
        "\n",
        "min(5, 10, 15)\n",
        "\n",
        "sqrt(16)\n",
        "\n",
        "abs(-4.7)\n",
        "\n",
        "ceiling(1.4)\n",
        "\n",
        "floor(1.4)\n"
      ],
      "metadata": {
        "colab": {
          "base_uri": "https://localhost:8080/",
          "height": 121
        },
        "id": "csmcrF6Pk5GX",
        "outputId": "4918e433-c7bb-4adb-ce78-f1ddf031223d"
      },
      "execution_count": 15,
      "outputs": [
        {
          "output_type": "display_data",
          "data": {
            "text/html": [
              "15"
            ],
            "text/markdown": "15",
            "text/latex": "15",
            "text/plain": [
              "[1] 15"
            ]
          },
          "metadata": {}
        },
        {
          "output_type": "display_data",
          "data": {
            "text/html": [
              "5"
            ],
            "text/markdown": "5",
            "text/latex": "5",
            "text/plain": [
              "[1] 5"
            ]
          },
          "metadata": {}
        },
        {
          "output_type": "display_data",
          "data": {
            "text/html": [
              "4"
            ],
            "text/markdown": "4",
            "text/latex": "4",
            "text/plain": [
              "[1] 4"
            ]
          },
          "metadata": {}
        },
        {
          "output_type": "display_data",
          "data": {
            "text/html": [
              "4.7"
            ],
            "text/markdown": "4.7",
            "text/latex": "4.7",
            "text/plain": [
              "[1] 4.7"
            ]
          },
          "metadata": {}
        },
        {
          "output_type": "display_data",
          "data": {
            "text/html": [
              "2"
            ],
            "text/markdown": "2",
            "text/latex": "2",
            "text/plain": [
              "[1] 2"
            ]
          },
          "metadata": {}
        },
        {
          "output_type": "display_data",
          "data": {
            "text/html": [
              "1"
            ],
            "text/markdown": "1",
            "text/latex": "1",
            "text/plain": [
              "[1] 1"
            ]
          },
          "metadata": {}
        }
      ]
    },
    {
      "cell_type": "code",
      "source": [
        "#string\n",
        "\n",
        "str <- \"Hello World!\"\n",
        "\n",
        "nchar(str)\n",
        "\n",
        "\n",
        "\n",
        "grepl(\"Hello\", str)\n",
        "\n",
        "grepl(\"X\", str)\n",
        "\n"
      ],
      "metadata": {
        "colab": {
          "base_uri": "https://localhost:8080/",
          "height": 86
        },
        "id": "5PYca8v-lL1X",
        "outputId": "59d43460-0e9e-47a4-d301-e9fdfdcbd115"
      },
      "execution_count": 14,
      "outputs": [
        {
          "output_type": "display_data",
          "data": {
            "text/html": [
              "12"
            ],
            "text/markdown": "12",
            "text/latex": "12",
            "text/plain": [
              "[1] 12"
            ]
          },
          "metadata": {}
        },
        {
          "output_type": "display_data",
          "data": {
            "text/html": [
              "TRUE"
            ],
            "text/markdown": "TRUE",
            "text/latex": "TRUE",
            "text/plain": [
              "[1] TRUE"
            ]
          },
          "metadata": {}
        },
        {
          "output_type": "display_data",
          "data": {
            "text/html": [
              "TRUE"
            ],
            "text/markdown": "TRUE",
            "text/latex": "TRUE",
            "text/plain": [
              "[1] TRUE"
            ]
          },
          "metadata": {}
        },
        {
          "output_type": "display_data",
          "data": {
            "text/html": [
              "FALSE"
            ],
            "text/markdown": "FALSE",
            "text/latex": "FALSE",
            "text/plain": [
              "[1] FALSE"
            ]
          },
          "metadata": {}
        }
      ]
    },
    {
      "cell_type": "code",
      "source": [
        "a<- 200\n",
        "b <- 33\n",
        "\n",
        "if (b > a) {\n",
        "  print (\"b is greater than a\")\n",
        "} else {\n",
        "  print(\"b is not greater than a\")\n",
        "}"
      ],
      "metadata": {
        "colab": {
          "base_uri": "https://localhost:8080/"
        },
        "id": "j_l56-7lloR3",
        "outputId": "43374b84-3e18-44fb-9f87-facc3d94b5b9"
      },
      "execution_count": 18,
      "outputs": [
        {
          "output_type": "stream",
          "name": "stdout",
          "text": [
            "[1] \"b is not greater than a\"\n"
          ]
        }
      ]
    },
    {
      "cell_type": "code",
      "source": [
        "x <- 5\n",
        "y <- 16\n",
        "x + y\n",
        "x - y\n",
        "x * y\n",
        "y / x\n",
        "y %/% x\n",
        "y %% x\n",
        "y ^ x"
      ],
      "metadata": {
        "colab": {
          "base_uri": "https://localhost:8080/",
          "height": 138
        },
        "id": "JSZa7-hymPRv",
        "outputId": "682d96fa-0738-4827-8af8-021a9e20d3fd"
      },
      "execution_count": 19,
      "outputs": [
        {
          "output_type": "display_data",
          "data": {
            "text/html": [
              "21"
            ],
            "text/markdown": "21",
            "text/latex": "21",
            "text/plain": [
              "[1] 21"
            ]
          },
          "metadata": {}
        },
        {
          "output_type": "display_data",
          "data": {
            "text/html": [
              "-11"
            ],
            "text/markdown": "-11",
            "text/latex": "-11",
            "text/plain": [
              "[1] -11"
            ]
          },
          "metadata": {}
        },
        {
          "output_type": "display_data",
          "data": {
            "text/html": [
              "80"
            ],
            "text/markdown": "80",
            "text/latex": "80",
            "text/plain": [
              "[1] 80"
            ]
          },
          "metadata": {}
        },
        {
          "output_type": "display_data",
          "data": {
            "text/html": [
              "3.2"
            ],
            "text/markdown": "3.2",
            "text/latex": "3.2",
            "text/plain": [
              "[1] 3.2"
            ]
          },
          "metadata": {}
        },
        {
          "output_type": "display_data",
          "data": {
            "text/html": [
              "3"
            ],
            "text/markdown": "3",
            "text/latex": "3",
            "text/plain": [
              "[1] 3"
            ]
          },
          "metadata": {}
        },
        {
          "output_type": "display_data",
          "data": {
            "text/html": [
              "1"
            ],
            "text/markdown": "1",
            "text/latex": "1",
            "text/plain": [
              "[1] 1"
            ]
          },
          "metadata": {}
        },
        {
          "output_type": "display_data",
          "data": {
            "text/html": [
              "1048576"
            ],
            "text/markdown": "1048576",
            "text/latex": "1048576",
            "text/plain": [
              "[1] 1048576"
            ]
          },
          "metadata": {}
        }
      ]
    },
    {
      "cell_type": "code",
      "source": [
        "x <- c(2, 8, 3)\n",
        "y <- c(6, 4, 1)\n",
        "x + y\n",
        "x > y"
      ],
      "metadata": {
        "colab": {
          "base_uri": "https://localhost:8080/",
          "height": 52
        },
        "id": "iPW6MkFLmsog",
        "outputId": "246709e4-8fb6-4f3c-9ca4-f08e63bcee53"
      },
      "execution_count": 20,
      "outputs": [
        {
          "output_type": "display_data",
          "data": {
            "text/html": [
              "<style>\n",
              ".list-inline {list-style: none; margin:0; padding: 0}\n",
              ".list-inline>li {display: inline-block}\n",
              ".list-inline>li:not(:last-child)::after {content: \"\\00b7\"; padding: 0 .5ex}\n",
              "</style>\n",
              "<ol class=list-inline><li>8</li><li>12</li><li>4</li></ol>\n"
            ],
            "text/markdown": "1. 8\n2. 12\n3. 4\n\n\n",
            "text/latex": "\\begin{enumerate*}\n\\item 8\n\\item 12\n\\item 4\n\\end{enumerate*}\n",
            "text/plain": [
              "[1]  8 12  4"
            ]
          },
          "metadata": {}
        },
        {
          "output_type": "display_data",
          "data": {
            "text/html": [
              "<style>\n",
              ".list-inline {list-style: none; margin:0; padding: 0}\n",
              ".list-inline>li {display: inline-block}\n",
              ".list-inline>li:not(:last-child)::after {content: \"\\00b7\"; padding: 0 .5ex}\n",
              "</style>\n",
              "<ol class=list-inline><li>FALSE</li><li>TRUE</li><li>TRUE</li></ol>\n"
            ],
            "text/markdown": "1. FALSE\n2. TRUE\n3. TRUE\n\n\n",
            "text/latex": "\\begin{enumerate*}\n\\item FALSE\n\\item TRUE\n\\item TRUE\n\\end{enumerate*}\n",
            "text/plain": [
              "[1] FALSE  TRUE  TRUE"
            ]
          },
          "metadata": {}
        }
      ]
    },
    {
      "cell_type": "code",
      "source": [
        "a <- 200\n",
        "b <- 33\n",
        "\n",
        "if (b > a) {\n",
        "  print(\"b is greater than a\")\n",
        "} else if (a == b) {\n",
        "  print(\"a and b are equal\")\n",
        "} else {\n",
        "  print(\"a is greater than b\")\n",
        "}"
      ],
      "metadata": {
        "colab": {
          "base_uri": "https://localhost:8080/"
        },
        "id": "7EFadzaMm0xA",
        "outputId": "2c5830f2-63d4-4067-d61b-bcfdff314c56"
      },
      "execution_count": 21,
      "outputs": [
        {
          "output_type": "stream",
          "name": "stdout",
          "text": [
            "[1] \"a is greater than b\"\n"
          ]
        }
      ]
    },
    {
      "cell_type": "code",
      "source": [
        "\n",
        "\n",
        "#loop\n",
        "i <- 1\n",
        "while (i < 6) {\n",
        "  print(i)\n",
        "  i <- i + 1\n",
        "}\n",
        "\n",
        "for (i in 1:10)\n",
        "{\n",
        "  print(i)\n",
        "}\n",
        "\n",
        "dice <- c(1, 2, 3, 4, 5, 6)\n",
        "\n",
        "for (x in dice) {\n",
        "  print(x)\n",
        "}"
      ],
      "metadata": {
        "colab": {
          "base_uri": "https://localhost:8080/"
        },
        "id": "hk1rTjgtnxwH",
        "outputId": "8a717192-e0fa-4e6e-f1ff-5314969a99a9"
      },
      "execution_count": 23,
      "outputs": [
        {
          "output_type": "stream",
          "name": "stdout",
          "text": [
            "[1] 1\n",
            "[1] 2\n",
            "[1] 3\n",
            "[1] 4\n",
            "[1] 5\n",
            "[1] 1\n",
            "[1] 2\n",
            "[1] 3\n",
            "[1] 4\n",
            "[1] 5\n",
            "[1] 6\n",
            "[1] 7\n",
            "[1] 8\n",
            "[1] 9\n",
            "[1] 10\n",
            "[1] 1\n",
            "[1] 2\n",
            "[1] 3\n",
            "[1] 4\n",
            "[1] 5\n",
            "[1] 6\n"
          ]
        }
      ]
    },
    {
      "cell_type": "code",
      "source": [
        "#function\n",
        "\n",
        "my_function <- function() {\n",
        "  print(\"Hello World!  **  KRCE   **  \")\n",
        "}\n",
        "\n",
        "my_function() # call the function named my_function"
      ],
      "metadata": {
        "colab": {
          "base_uri": "https://localhost:8080/"
        },
        "id": "KuVBbJLVoDh4",
        "outputId": "7594f0e2-c8b5-49c3-9e78-c30772e440e0"
      },
      "execution_count": 24,
      "outputs": [
        {
          "output_type": "stream",
          "name": "stdout",
          "text": [
            "[1] \"Hello World!  **  KRCE   **  \"\n"
          ]
        }
      ]
    },
    {
      "cell_type": "code",
      "source": [
        "# vector\n",
        "\n",
        "fruits <- c(\"banana\", \"apple\", \"orange\", \"mango\", \"lemon\")\n",
        "numbers <- c(13, 3, 5, 7, 20, 2)\n",
        "\n",
        "sort(fruits)  # Sort a string\n",
        "sort(numbers)"
      ],
      "metadata": {
        "colab": {
          "base_uri": "https://localhost:8080/",
          "height": 52
        },
        "id": "CscA74y-oR7Z",
        "outputId": "c7e23880-60f2-49c9-8e38-dbc9efe97cae"
      },
      "execution_count": 25,
      "outputs": [
        {
          "output_type": "display_data",
          "data": {
            "text/html": [
              "<style>\n",
              ".list-inline {list-style: none; margin:0; padding: 0}\n",
              ".list-inline>li {display: inline-block}\n",
              ".list-inline>li:not(:last-child)::after {content: \"\\00b7\"; padding: 0 .5ex}\n",
              "</style>\n",
              "<ol class=list-inline><li>'apple'</li><li>'banana'</li><li>'lemon'</li><li>'mango'</li><li>'orange'</li></ol>\n"
            ],
            "text/markdown": "1. 'apple'\n2. 'banana'\n3. 'lemon'\n4. 'mango'\n5. 'orange'\n\n\n",
            "text/latex": "\\begin{enumerate*}\n\\item 'apple'\n\\item 'banana'\n\\item 'lemon'\n\\item 'mango'\n\\item 'orange'\n\\end{enumerate*}\n",
            "text/plain": [
              "[1] \"apple\"  \"banana\" \"lemon\"  \"mango\"  \"orange\""
            ]
          },
          "metadata": {}
        },
        {
          "output_type": "display_data",
          "data": {
            "text/html": [
              "<style>\n",
              ".list-inline {list-style: none; margin:0; padding: 0}\n",
              ".list-inline>li {display: inline-block}\n",
              ".list-inline>li:not(:last-child)::after {content: \"\\00b7\"; padding: 0 .5ex}\n",
              "</style>\n",
              "<ol class=list-inline><li>2</li><li>3</li><li>5</li><li>7</li><li>13</li><li>20</li></ol>\n"
            ],
            "text/markdown": "1. 2\n2. 3\n3. 5\n4. 7\n5. 13\n6. 20\n\n\n",
            "text/latex": "\\begin{enumerate*}\n\\item 2\n\\item 3\n\\item 5\n\\item 7\n\\item 13\n\\item 20\n\\end{enumerate*}\n",
            "text/plain": [
              "[1]  2  3  5  7 13 20"
            ]
          },
          "metadata": {}
        }
      ]
    },
    {
      "cell_type": "code",
      "source": [
        "thismatrix <- matrix(c(1,2,3,4,5,6), nrow = 3, ncol = 2)\n",
        "\n",
        "# Print the matrix\n",
        "thismatrix"
      ],
      "metadata": {
        "colab": {
          "base_uri": "https://localhost:8080/",
          "height": 198
        },
        "id": "UaOCzPR-ocZ_",
        "outputId": "66fcbce9-0ac9-460b-bf5e-b6d8c8866253"
      },
      "execution_count": 26,
      "outputs": [
        {
          "output_type": "display_data",
          "data": {
            "text/html": [
              "<table class=\"dataframe\">\n",
              "<caption>A matrix: 3 × 2 of type dbl</caption>\n",
              "<tbody>\n",
              "\t<tr><td>1</td><td>4</td></tr>\n",
              "\t<tr><td>2</td><td>5</td></tr>\n",
              "\t<tr><td>3</td><td>6</td></tr>\n",
              "</tbody>\n",
              "</table>\n"
            ],
            "text/markdown": "\nA matrix: 3 × 2 of type dbl\n\n| 1 | 4 |\n| 2 | 5 |\n| 3 | 6 |\n\n",
            "text/latex": "A matrix: 3 × 2 of type dbl\n\\begin{tabular}{ll}\n\t 1 & 4\\\\\n\t 2 & 5\\\\\n\t 3 & 6\\\\\n\\end{tabular}\n",
            "text/plain": [
              "     [,1] [,2]\n",
              "[1,] 1    4   \n",
              "[2,] 2    5   \n",
              "[3,] 3    6   "
            ]
          },
          "metadata": {}
        }
      ]
    },
    {
      "cell_type": "code",
      "source": [
        "plot(1:10, type=\"l\")"
      ],
      "metadata": {
        "colab": {
          "base_uri": "https://localhost:8080/",
          "height": 437
        },
        "id": "jg5n1cfhoiR0",
        "outputId": "19ed14c7-ea01-4508-8c96-c3c008feeb94"
      },
      "execution_count": 27,
      "outputs": [
        {
          "output_type": "display_data",
          "data": {
            "text/plain": [
              "plot without title"
            ],
            "image/png": "[encoded data removed]"
          },
          "metadata": {
            "image/png": {
              "width": 420,
              "height": 420
            }
          }
        }
      ]
    },
    {
      "cell_type": "code",
      "source": [
        "x <- c(5,7,8,7,2,2,9,4,11,12,9,6)\n",
        "y <- c(99,86,87,88,111,103,87,94,78,77,85,86)\n",
        "\n",
        "plot(x, y ,col=\"blue\", cex=2)"
      ],
      "metadata": {
        "colab": {
          "base_uri": "https://localhost:8080/",
          "height": 437
        },
        "id": "8waJ0yg0ouwA",
        "outputId": "84eb0d72-8739-403d-af87-da1ee255245e"
      },
      "execution_count": 28,
      "outputs": [
        {
          "output_type": "display_data",
          "data": {
            "text/plain": [
              "plot without title"
            ],
            "image/png": "[encoded data removed]"
          },
          "metadata": {
            "image/png": {
              "width": 420,
              "height": 420
            }
          }
        }
      ]
    },
    {
      "cell_type": "code",
      "source": [
        "x <- c(10,20,30,40)\n",
        "\n",
        "# Display the pie chart\n",
        "pie(x)"
      ],
      "metadata": {
        "colab": {
          "base_uri": "https://localhost:8080/",
          "height": 437
        },
        "id": "u0fC_89So3LR",
        "outputId": "729cfc9c-d063-4274-f940-305e7836c965"
      },
      "execution_count": 29,
      "outputs": [
        {
          "output_type": "display_data",
          "data": {
            "text/plain": [
              "plot without title"
            ],
            "image/png": "[encoded data removed]"
          },
          "metadata": {
            "image/png": {
              "width": 420,
              "height": 420
            }
          }
        }
      ]
    }
  ]
}